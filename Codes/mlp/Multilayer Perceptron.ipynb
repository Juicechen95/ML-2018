{
 "cells": [
  {
   "cell_type": "markdown",
   "metadata": {},
   "source": [
    "## Numpy based MLP"
   ]
  },
  {
   "cell_type": "code",
   "execution_count": 2,
   "metadata": {},
   "outputs": [],
   "source": [
    "import numpy as np\n",
    "from matplotlib import pyplot as plt"
   ]
  },
  {
   "cell_type": "code",
   "execution_count": 3,
   "metadata": {},
   "outputs": [],
   "source": [
    "class Layer():\n",
    "    def __init__(self):\n",
    "        pass\n",
    "    \n",
    "    def forward(self, x):\n",
    "        raise NotImplementedError\n",
    "    \n",
    "    def backward(self, x):\n",
    "        raise NotImplementedError\n",
    "    \n",
    "    def update(self, learning_rate):\n",
    "        raise NotImplementedError"
   ]
  },
  {
   "cell_type": "code",
   "execution_count": 4,
   "metadata": {},
   "outputs": [],
   "source": [
    "class Activation(Layer):\n",
    "    def __init__(self, size):\n",
    "        self.size = size\n",
    "             \n",
    "    def update(self, learning_rate):\n",
    "        pass\n",
    "    \n",
    "    @staticmethod\n",
    "    def get_activation(activation):\n",
    "        activations = {\n",
    "            'sigmoid': Sigmoid,\n",
    "            'relu': Relu\n",
    "        }\n",
    "        return activations[activation]\n",
    "        \n",
    "\n",
    "class Sigmoid(Activation):        \n",
    "    def forward(self, x):\n",
    "        assert x.size == self.size\n",
    "        self.y = 1 / (1 + np.exp(-x))\n",
    "        return self.y\n",
    "    \n",
    "    def backward(self, node_grad):\n",
    "        assert node_grad.size == self.size\n",
    "        return node_grad * (self.y * (1-self.y))\n",
    "    \n",
    "class Relu(Activation):        \n",
    "    def forward(self, x):\n",
    "        assert x.size == self.size\n",
    "        self.x = x\n",
    "        return np.maximum(x, 0)\n",
    "    \n",
    "    def backward(self, node_grad):\n",
    "        assert node_grad.size == self.size\n",
    "        return node_grad * (self.x > 0)\n",
    "    \n",
    "class Softmax_Square_Error(Activation):\n",
    "    def forward(self, x):\n",
    "        assert x.size == self.size\n",
    "        exps = np.exp(x - np.max(x)) # float64 is 10^308, exp with too large x will yield inf\n",
    "        self.y = exps / np.sum(exps) \n",
    "        return self.y\n",
    "        \n",
    "    def backward(self, label):\n",
    "        assert label.size == self.size\n",
    "        self.out_grad = (self.y - label) @ (np.diag(self.y) - np.outer(self.y, self.y))\n",
    "        return self.out_grad\n",
    "        \n",
    "class Softmax_Cross_Entropy(Activation):\n",
    "    def forward(self, x):\n",
    "        assert x.size == self.size\n",
    "        exps = np.exp(x - np.max(x)) # float64 is 10^308, exp with too large x will yield inf\n",
    "        self.y = exps / np.sum(exps)\n",
    "        return self.y\n",
    "        \n",
    "    def backward(self, label):\n",
    "        assert label.size == self.size\n",
    "        self.out_grad = self.y - label\n",
    "        return self.out_grad"
   ]
  },
  {
   "cell_type": "code",
   "execution_count": 5,
   "metadata": {},
   "outputs": [],
   "source": [
    "class Linear(Layer):\n",
    "    def __init__(self, size_in, size_out, with_bias):\n",
    "        self.size_in = size_in\n",
    "        self.size_out = size_out\n",
    "        self.with_bias = with_bias\n",
    "        self.W = self.initialize_weight()\n",
    "        if with_bias:\n",
    "            self.b = np.zeros(size_out)\n",
    "            \n",
    "    def initialize_weight(self): # initialization is extremely important\n",
    "        #return np.zeros((self.size_in, self.size_out)) # danger if set to 0\n",
    "        #epsilon = 4.0 * np.sqrt(6) / np.sqrt(self.size_in + self.size_out) # for sigmoid\n",
    "        epsilon = np.sqrt(2.0 / (self.size_in + self.size_out)) # for relu\n",
    "        return epsilon * (np.random.rand(self.size_in, self.size_out) * 2 - 1) \n",
    "        \n",
    "    def forward(self, x):\n",
    "        assert x.size == self.size_in\n",
    "        self.x = x\n",
    "        self.y = x @ self.W + self.b\n",
    "        return self.y\n",
    "    \n",
    "    def backward(self, node_grad):\n",
    "        assert node_grad.size == self.size_out\n",
    "        self.G_W = np.outer(self.x, node_grad)\n",
    "        if self.with_bias:\n",
    "            self.G_b = node_grad\n",
    "        return node_grad @ self.W.T\n",
    "    \n",
    "    def update(self, learning_rate):\n",
    "        self.W -= learning_rate * self.G_W\n",
    "        if self.with_bias:\n",
    "            self.b -= learning_rate * self.G_b"
   ]
  },
  {
   "cell_type": "code",
   "execution_count": 5,
   "metadata": {},
   "outputs": [],
   "source": [
    "class MLP():\n",
    "    def __init__(self, layer_size, with_bias=True, activation=\"sigmoid\", learning_rate=1):\n",
    "        assert len(layer_size) >= 2\n",
    "        self.layer_size = layer_size\n",
    "        self.with_bias = with_bias\n",
    "        self.activation = Activation.get_activation(activation)\n",
    "        self.learning_rate = learning_rate\n",
    "        self.build_model()\n",
    "        \n",
    "    def build_model(self):\n",
    "        self.layers = []\n",
    "        \n",
    "        size_in = self.layer_size[0]\n",
    "        for hu in self.layer_size[1:-1]:\n",
    "            self.layers.append(Linear(size_in, hu, self.with_bias))\n",
    "            self.layers.append(self.activation(hu))\n",
    "            size_in = hu\n",
    "        self.layers.append(Linear(size_in, self.layer_size[-1], self.with_bias))\n",
    "        self.layers.append(Softmax_Cross_Entropy(self.layer_size[-1]))\n",
    "        \n",
    "    def forward(self, x):\n",
    "        assert x.size == self.layer_size[0]\n",
    "        for layer in self.layers:\n",
    "            x = layer.forward(x)\n",
    "        return x\n",
    "    \n",
    "    def backward(self, label):\n",
    "        assert label.size == self.layer_size[-1]\n",
    "        node_grad = label\n",
    "        for layer in reversed(self.layers): # reversed does not make a copy\n",
    "            node_grad = layer.backward(node_grad)\n",
    "            \n",
    "    def update(self, learning_rate):\n",
    "        for layer in self.layers:\n",
    "            layer.update(learning_rate)\n",
    "            \n",
    "    def train(self, x, label):\n",
    "        assert x.size == self.layer_size[0]\n",
    "        y = self.forward(x)\n",
    "        self.backward(label)\n",
    "        self.update(self.learning_rate)\n",
    "    \n",
    "    def predict(self, x):\n",
    "        for layer in self.layers:\n",
    "            x = layer.forward(x)\n",
    "        return np.argmax(x)\n",
    "    \n",
    "    def loss(self, x, label):\n",
    "        y = self.forward(x)\n",
    "        return np.sum((y - label)**2)"
   ]
  },
  {
   "cell_type": "code",
   "execution_count": 6,
   "metadata": {},
   "outputs": [],
   "source": [
    "X = np.array([\n",
    "    [0, 0],\n",
    "    [0, 1],\n",
    "    [1, 0],\n",
    "    [1, 1]\n",
    "])\n",
    "Y = np.array([\n",
    "    [1, 0],\n",
    "    [0, 1],\n",
    "    [0, 1],\n",
    "    [1, 0]\n",
    "])"
   ]
  },
  {
   "cell_type": "code",
   "execution_count": 17,
   "metadata": {},
   "outputs": [
    {
     "data": {
      "text/plain": [
       "[<matplotlib.lines.Line2D at 0x7f32df680400>]"
      ]
     },
     "execution_count": 17,
     "metadata": {},
     "output_type": "execute_result"
    },
    {
     "data": {
      "image/png": "[encoded data removed]",
      "text/plain": [
       "<Figure size 432x288 with 1 Axes>"
      ]
     },
     "metadata": {
      "needs_background": "light"
     },
     "output_type": "display_data"
    }
   ],
   "source": [
    "np.random.seed(1007)\n",
    "EPOCH = 1000\n",
    "N = X.shape[0]\n",
    "\n",
    "mlp = MLP([2, 4, 2], learning_rate=.1, activation=\"relu\")\n",
    "\n",
    "loss = np.zeros(EPOCH)\n",
    "for epoch in range(EPOCH):\n",
    "    for i in range(N):\n",
    "        mlp.train(X[i], Y[i])\n",
    "        \n",
    "    #print('Prediction: ', end=\"\")\n",
    "    for i in range(N):\n",
    "        loss[epoch] += mlp.loss(X[i], Y[i])\n",
    "        #print(mlp.predict(X[i]), end=\" \")\n",
    "        \n",
    "    loss[epoch] /= N\n",
    "    #print('Epoch %d, Loss: %f' % (epoch, loss[epoch]))\n",
    "    \n",
    "plt.figure()\n",
    "ix = np.arange(EPOCH)\n",
    "plt.plot(ix, loss)"
   ]
  },
  {
   "cell_type": "markdown",
   "metadata": {},
   "source": [
    "## Tensorflow"
   ]
  },
  {
   "cell_type": "markdown",
   "metadata": {},
   "source": [
    "### Keras"
   ]
  },
  {
   "cell_type": "code",
   "execution_count": 4,
   "metadata": {},
   "outputs": [
    {
     "ename": "NameError",
     "evalue": "name 'X' is not defined",
     "output_type": "error",
     "traceback": [
      "\u001b[0;31m---------------------------------------------------------------------------\u001b[0m",
      "\u001b[0;31mNameError\u001b[0m                                 Traceback (most recent call last)",
      "\u001b[0;32m<ipython-input-4-7532d6a377b3>\u001b[0m in \u001b[0;36m<module>\u001b[0;34m\u001b[0m\n\u001b[1;32m     14\u001b[0m               metrics=['accuracy'])\n\u001b[1;32m     15\u001b[0m \u001b[0;34m\u001b[0m\u001b[0m\n\u001b[0;32m---> 16\u001b[0;31m \u001b[0mhistory\u001b[0m \u001b[0;34m=\u001b[0m \u001b[0mmodel\u001b[0m\u001b[0;34m.\u001b[0m\u001b[0mfit\u001b[0m\u001b[0;34m(\u001b[0m\u001b[0mX\u001b[0m\u001b[0;34m,\u001b[0m \u001b[0mY\u001b[0m\u001b[0;34m,\u001b[0m \u001b[0mepochs\u001b[0m\u001b[0;34m=\u001b[0m\u001b[0;36m2000\u001b[0m\u001b[0;34m)\u001b[0m\u001b[0;34m\u001b[0m\u001b[0m\n\u001b[0m",
      "\u001b[0;31mNameError\u001b[0m: name 'X' is not defined"
     ]
    }
   ],
   "source": [
    "import tensorflow as tf\n",
    "from tensorflow.keras.models import Sequential\n",
    "from tensorflow.keras.layers import Dense, Activation\n",
    "from tensorflow.keras.optimizers import SGD\n",
    "\n",
    "model = Sequential()\n",
    "model.add(Dense(2, input_dim=2, activation=tf.nn.sigmoid))\n",
    "model.add(Dense(2, activation=tf.nn.softmax))\n",
    "\n",
    "sgd = SGD(lr=1)\n",
    "\n",
    "model.compile(optimizer=sgd,\n",
    "              loss='categorical_crossentropy',\n",
    "              metrics=['accuracy'])\n",
    "\n",
    "history = model.fit(X, Y, epochs=2000)"
   ]
  },
  {
   "cell_type": "markdown",
   "metadata": {},
   "source": [
    "### Raw"
   ]
  },
  {
   "cell_type": "code",
   "execution_count": null,
   "metadata": {},
   "outputs": [],
   "source": [
    "import tensorflow as tf"
   ]
  },
  {
   "cell_type": "code",
   "execution_count": null,
   "metadata": {},
   "outputs": [],
   "source": [
    "learning_rate = 1\n",
    "training_epochs = 200\n",
    "\n",
    "d_input = 2\n",
    "d_hidden = 10\n",
    "d_output = 2"
   ]
  },
  {
   "cell_type": "code",
   "execution_count": null,
   "metadata": {},
   "outputs": [],
   "source": [
    "x = tf.placeholder(\"float\", [None, d_input])\n",
    "y = tf.placeholder(\"float\", [None, d_output])\n",
    "\n",
    "w1 = tf.Variable(tf.random_normal([d_input, d_hidden]))\n",
    "b1 = tf.Variable(tf.random_normal([d_hidden]))\n",
    "h1 = tf.nn.relu(tf.add(tf.matmul(x, w1), b1))\n",
    "\n",
    "w2 = tf.Variable(tf.random_normal([d_hidden, d_output]))\n",
    "b2 = tf.Variable(tf.random_normal([d_output]))\n",
    "out = tf.add(tf.matmul(h1, w2), b2)\n",
    "\n",
    "pred = tf.nn.softmax(out)\n",
    "\n",
    "cost = tf.reduce_mean(tf.nn.softmax_cross_entropy_with_logits(logits=out, labels=y))\n",
    "optimizer = tf.train.GradientDescentOptimizer(learning_rate=learning_rate).minimize(cost)"
   ]
  },
  {
   "cell_type": "code",
   "execution_count": null,
   "metadata": {
    "scrolled": true
   },
   "outputs": [],
   "source": [
    "init = tf.initialize_all_variables()\n",
    "\n",
    "with tf.Session() as sess:\n",
    "    sess.run(init)\n",
    "\n",
    "    for epoch in range(training_epochs):\n",
    "        _, c = sess.run([optimizer, cost], feed_dict={x: X, y: Y})\n",
    "        print(\"Epoch: %d, cost=%.9f\" % (epoch+1, c))\n",
    "        \n",
    "    y_pred = sess.run([pred], feed_dict={x: X})\n",
    "    print(y_pred)"
   ]
  }
 ],
 "metadata": {
  "kernelspec": {
   "display_name": "Python 3",
   "language": "python",
   "name": "python3"
  },
  "language_info": {
   "codemirror_mode": {
    "name": "ipython",
    "version": 3
   },
   "file_extension": ".py",
   "mimetype": "text/x-python",
   "name": "python",
   "nbconvert_exporter": "python",
   "pygments_lexer": "ipython3",
   "version": "3.5.2"
  }
 },
 "nbformat": 4,
 "nbformat_minor": 2
}
