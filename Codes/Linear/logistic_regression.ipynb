{
 "cells": [
  {
   "cell_type": "markdown",
   "metadata": {},
   "source": [
    "### Synthetic data"
   ]
  },
  {
   "cell_type": "code",
   "execution_count": null,
   "metadata": {},
   "outputs": [],
   "source": []
  },
  {
   "cell_type": "code",
   "execution_count": 2,
   "metadata": {},
   "outputs": [
    {
     "data": {
      "image/png": "[encoded data removed]",
      "text/plain": [
       "<Figure size 432x288 with 1 Axes>"
      ]
     },
     "metadata": {
      "needs_background": "light"
     },
     "output_type": "display_data"
    }
   ],
   "source": [
    "import numpy as np\n",
    "import matplotlib.pyplot as plt\n",
    "\n",
    "lines = np.loadtxt('data.csv', delimiter=',', dtype='str')\n",
    "x_total = lines[:, 1:3].astype('float')\n",
    "y_total = lines[:, 3].astype('float')\n",
    "\n",
    "pos_index = np.where(y_total == 1)\n",
    "neg_index = np.where(y_total == 0)\n",
    "plt.scatter(x_total[pos_index, 0], x_total[pos_index, 1], marker='o', c='r')\n",
    "plt.scatter(x_total[neg_index, 0], x_total[neg_index, 1], marker='x', c='b')\n",
    "plt.show()"
   ]
  },
  {
   "cell_type": "markdown",
   "metadata": {},
   "source": [
    "### sklearn"
   ]
  },
  {
   "cell_type": "code",
   "execution_count": 3,
   "metadata": {
    "scrolled": true
   },
   "outputs": [
    {
     "name": "stdout",
     "output_type": "stream",
     "text": [
      "[2.79739336 2.57559894]\n",
      "[0.51625502]\n",
      "accuracy: 0.89\n"
     ]
    },
    {
     "name": "stderr",
     "output_type": "stream",
     "text": [
      "/usr/local/lib/python3.5/dist-packages/sklearn/linear_model/logistic.py:432: FutureWarning: Default solver will be changed to 'lbfgs' in 0.22. Specify a solver to silence this warning.\n",
      "  FutureWarning)\n"
     ]
    },
    {
     "data": {
      "image/png": "[encoded data removed]",
      "text/plain": [
       "<Figure size 432x288 with 1 Axes>"
      ]
     },
     "metadata": {
      "needs_background": "light"
     },
     "output_type": "display_data"
    }
   ],
   "source": [
    "from sklearn import linear_model\n",
    "\n",
    "lr_clf = linear_model.LogisticRegression()\n",
    "lr_clf.fit(x_total, y_total)\n",
    "print(lr_clf.coef_[0])\n",
    "print(lr_clf.intercept_)\n",
    "\n",
    "y_pred = lr_clf.predict(x_total)\n",
    "print('accuracy:',(y_pred == y_total).mean())\n",
    "\n",
    "plot_x = np.linspace(-1.0, 1.0, 100)\n",
    "plot_y = - (lr_clf.coef_[0][0] * plot_x + lr_clf.intercept_) / lr_clf.coef_[0][1]\n",
    "plt.scatter(x_total[pos_index, 0], x_total[pos_index, 1], marker='o', c='r')\n",
    "plt.scatter(x_total[neg_index, 0], x_total[neg_index, 1], marker='x', c='b')\n",
    "plt.plot(plot_x, plot_y, c='g')\n",
    "plt.show()"
   ]
  },
  {
   "cell_type": "markdown",
   "metadata": {},
   "source": [
    "### Tensorflow"
   ]
  },
  {
   "cell_type": "code",
   "execution_count": 6,
   "metadata": {},
   "outputs": [
    {
     "name": "stdout",
     "output_type": "stream",
     "text": [
      "current num_step: 0\n",
      "loss 0.6931472\n",
      "current num_step: 20\n",
      "loss 0.6039114\n",
      "current num_step: 40\n",
      "loss 0.54275\n",
      "current num_step: 60\n",
      "loss 0.4978381\n",
      "current num_step: 80\n",
      "loss 0.46331117\n",
      "current num_step: 100\n",
      "loss 0.43591842\n",
      "current num_step: 120\n",
      "loss 0.4136666\n",
      "current num_step: 140\n",
      "loss 0.39524448\n",
      "current num_step: 160\n",
      "loss 0.37974834\n",
      "current num_step: 180\n",
      "loss 0.36653432\n",
      "current num_step: 200\n",
      "loss 0.35513207\n",
      "current num_step: 220\n",
      "loss 0.34519064\n",
      "current num_step: 240\n",
      "loss 0.3364435\n",
      "current num_step: 260\n",
      "loss 0.32868484\n",
      "current num_step: 280\n",
      "loss 0.32175338\n",
      "current num_step: 300\n",
      "loss 0.31552112\n",
      "current num_step: 320\n",
      "loss 0.30988526\n",
      "current num_step: 340\n",
      "loss 0.30476224\n",
      "current num_step: 360\n",
      "loss 0.30008364\n",
      "current num_step: 380\n",
      "loss 0.2957926\n",
      "current num_step: 400\n",
      "loss 0.2918419\n",
      "current num_step: 420\n",
      "loss 0.2881915\n",
      "current num_step: 440\n",
      "loss 0.2848077\n",
      "current num_step: 460\n",
      "loss 0.28166166\n",
      "current num_step: 480\n",
      "loss 0.27872857\n",
      "current num_step: 500\n",
      "loss 0.27598703\n",
      "current num_step: 520\n",
      "loss 0.27341852\n",
      "current num_step: 540\n",
      "loss 0.27100676\n",
      "current num_step: 560\n",
      "loss 0.2687376\n",
      "current num_step: 580\n",
      "loss 0.26659852\n",
      "current num_step: 600\n",
      "loss 0.26457837\n",
      "current num_step: 620\n",
      "loss 0.26266745\n",
      "current num_step: 640\n",
      "loss 0.2608569\n",
      "current num_step: 660\n",
      "loss 0.259139\n",
      "current num_step: 680\n",
      "loss 0.25750667\n",
      "current num_step: 700\n",
      "loss 0.25595358\n",
      "current num_step: 720\n",
      "loss 0.2544741\n",
      "current num_step: 740\n",
      "loss 0.25306308\n",
      "current num_step: 760\n",
      "loss 0.25171578\n",
      "current num_step: 780\n",
      "loss 0.25042796\n",
      "current num_step: 800\n",
      "loss 0.24919583\n",
      "current num_step: 820\n",
      "loss 0.24801579\n",
      "current num_step: 840\n",
      "loss 0.24688457\n",
      "current num_step: 860\n",
      "loss 0.24579927\n",
      "current num_step: 880\n",
      "loss 0.24475712\n",
      "current num_step: 900\n",
      "loss 0.24375564\n",
      "current num_step: 920\n",
      "loss 0.24279246\n",
      "current num_step: 940\n",
      "loss 0.2418655\n",
      "current num_step: 960\n",
      "loss 0.24097271\n",
      "current num_step: 980\n",
      "loss 0.24011229\n",
      "accuracy: 0.89\n"
     ]
    },
    {
     "data": {
      "text/plain": [
       "[<matplotlib.lines.Line2D at 0x7f3399676f60>]"
      ]
     },
     "execution_count": 6,
     "metadata": {},
     "output_type": "execute_result"
    },
    {
     "data": {
      "image/png": "[encoded data removed]",
      "text/plain": [
       "<Figure size 936x288 with 2 Axes>"
      ]
     },
     "metadata": {
      "needs_background": "light"
     },
     "output_type": "display_data"
    }
   ],
   "source": [
    "import tensorflow as tf\n",
    "\n",
    "n_iterations = 1000\n",
    "learning_rate = 0.1\n",
    "\n",
    "x_tf = tf.placeholder(tf.float32)\n",
    "y_tf = tf.placeholder(tf.float32)\n",
    "\n",
    "w = tf.Variable(tf.zeros([2, 1]))\n",
    "b = tf.Variable(tf.constant(0.0, shape=[1]))\n",
    "\n",
    "logit = tf.matmul(x_tf, w) + b\n",
    "h = tf.squeeze(tf.nn.sigmoid(logit))\n",
    "predict_label = tf.where(tf.squeeze(h) > 0.5, tf.ones(tf.shape(x_tf)[0]), tf.zeros(tf.shape(x_tf)[0]))\n",
    "acc = tf.reduce_mean(tf.cast(tf.equal(predict_label, tf.cast(y_tf, dtype=tf.float32)), tf.float32))\n",
    "\n",
    "# loss = tf.reduce_mean(tf.nn.sigmoid_cross_entropy_with_logits(labels=y_tf, logits=logit))\n",
    "loss = tf.reduce_mean(- y_tf * tf.log(h) - (1 - y_tf) * (tf.log(1 - h)))\n",
    "\n",
    "train_op = tf.train.GradientDescentOptimizer(learning_rate).minimize(loss)\n",
    "\n",
    "sess = tf.Session()\n",
    "sess.run(tf.global_variables_initializer())\n",
    "\n",
    "loss_list = []\n",
    "for i in range(n_iterations):\n",
    "    l = sess.run(loss , feed_dict={x_tf: x_total, y_tf: y_total})\n",
    "    if i % 20 == 0:\n",
    "        print('current num_step:', i)\n",
    "        print('loss', l)\n",
    "    loss_list.append(l)\n",
    "    sess.run(train_op, feed_dict={x_tf: x_total, y_tf: y_total})\n",
    "print('accuracy:', sess.run(acc, feed_dict={x_tf: x_total, y_tf: y_total}))\n",
    "loss_array = np.array(loss_list)\n",
    "    \n",
    "w_ = sess.run(w)\n",
    "b_ = sess.run(b)\n",
    "\n",
    "plt.figure(figsize=(13, 4))\n",
    "plt.subplot(121)\n",
    "plt.plot(np.arange(n_iterations), loss_array)\n",
    "plt.subplot(122)\n",
    "plot_x = np.linspace(-1.0, 1.0, 100)\n",
    "plot_y = - (w_[0] * plot_x + b_) / w_[1]\n",
    "plt.scatter(x_total[pos_index, 0], x_total[pos_index, 1], marker='o', c='r')\n",
    "plt.scatter(x_total[neg_index, 0], x_total[neg_index, 1], marker='x', c='b')\n",
    "plt.plot(plot_x, plot_y, c='g')"
   ]
  },
  {
   "cell_type": "markdown",
   "metadata": {},
   "source": [
    "### Gradient Descent"
   ]
  },
  {
   "cell_type": "code",
   "execution_count": 7,
   "metadata": {
    "scrolled": true
   },
   "outputs": [
    {
     "name": "stdout",
     "output_type": "stream",
     "text": [
      "current num_step: 0\n",
      "loss 0.6931471805599453\n",
      "current num_step: 20\n",
      "loss 0.6039114100598901\n",
      "current num_step: 40\n",
      "loss 0.5427499908048159\n",
      "current num_step: 60\n",
      "loss 0.4978380969431532\n",
      "current num_step: 80\n",
      "loss 0.4633111710529931\n",
      "current num_step: 100\n",
      "loss 0.4359184183258201\n",
      "current num_step: 120\n",
      "loss 0.41366660610409123\n",
      "current num_step: 140\n",
      "loss 0.3952445233669363\n",
      "current num_step: 160\n",
      "loss 0.379748369496276\n",
      "current num_step: 180\n",
      "loss 0.3665343396006876\n",
      "current num_step: 200\n",
      "loss 0.3551320793552561\n",
      "current num_step: 220\n",
      "loss 0.3451906813001189\n",
      "current num_step: 240\n",
      "loss 0.33644355531417586\n",
      "current num_step: 260\n",
      "loss 0.32868487390747775\n",
      "current num_step: 280\n",
      "loss 0.3217533963694287\n",
      "current num_step: 300\n",
      "loss 0.3155211340160703\n",
      "current num_step: 320\n",
      "loss 0.3098852654047932\n",
      "current num_step: 340\n",
      "loss 0.30476227640532916\n",
      "current num_step: 360\n",
      "loss 0.3000836499754424\n",
      "current num_step: 380\n",
      "loss 0.29579265249853676\n",
      "current num_step: 400\n",
      "loss 0.29184190738069565\n",
      "current num_step: 420\n",
      "loss 0.28819154151379345\n",
      "current num_step: 440\n",
      "loss 0.2848077538663827\n",
      "current num_step: 460\n",
      "loss 0.2816616988019279\n",
      "current num_step: 480\n",
      "loss 0.27872860664337096\n",
      "current num_step: 500\n",
      "loss 0.27598708493001356\n",
      "current num_step: 520\n",
      "loss 0.2734185586308273\n",
      "current num_step: 540\n",
      "loss 0.27100681819305783\n",
      "current num_step: 560\n",
      "loss 0.26873765199233796\n",
      "current num_step: 580\n",
      "loss 0.2665985453757051\n",
      "current num_step: 600\n",
      "loss 0.26457843264559594\n",
      "current num_step: 620\n",
      "loss 0.2626674914330225\n",
      "current num_step: 640\n",
      "loss 0.2608569712406743\n",
      "current num_step: 660\n",
      "loss 0.25913904970635643\n",
      "current num_step: 680\n",
      "loss 0.2575067114904397\n",
      "current num_step: 700\n",
      "loss 0.2559536457336431\n",
      "current num_step: 720\n",
      "loss 0.25447415884051716\n",
      "current num_step: 740\n",
      "loss 0.25306309997606574\n",
      "current num_step: 760\n",
      "loss 0.2517157971599371\n",
      "current num_step: 780\n",
      "loss 0.2504280022358013\n",
      "current num_step: 800\n",
      "loss 0.2491958433064297\n",
      "current num_step: 820\n",
      "loss 0.24801578347537695\n",
      "current num_step: 840\n",
      "loss 0.24688458493761786\n",
      "current num_step: 860\n",
      "loss 0.2457992776243783\n",
      "current num_step: 880\n",
      "loss 0.2447571317397678\n",
      "current num_step: 900\n",
      "loss 0.2437556336348792\n",
      "current num_step: 920\n",
      "loss 0.24279246455363407\n",
      "current num_step: 940\n",
      "loss 0.2418654818576298\n",
      "current num_step: 960\n",
      "loss 0.24097270239759208\n",
      "current num_step: 980\n",
      "loss 0.24011228774913929\n"
     ]
    },
    {
     "data": {
      "text/plain": [
       "[<matplotlib.lines.Line2D at 0x7f33995ee8d0>]"
      ]
     },
     "execution_count": 7,
     "metadata": {},
     "output_type": "execute_result"
    },
    {
     "data": {
      "image/png": "[encoded data removed]",
      "text/plain": [
       "<Figure size 936x288 with 2 Axes>"
      ]
     },
     "metadata": {
      "needs_background": "light"
     },
     "output_type": "display_data"
    }
   ],
   "source": [
    "def sigmoid(z):\n",
    "    result = 1.0 / (1.0 + np.exp(-1.0 * z))\n",
    "    return result\n",
    "\n",
    "n_iterations = 1000\n",
    "learning_rate = 0.1\n",
    "\n",
    "weight = np.zeros(3)\n",
    "x_total_concat = np.hstack([x_total, np.ones([x_total.shape[0], 1])])\n",
    "\n",
    "loss_list = []\n",
    "\n",
    "loss_list = []\n",
    "for i in range(n_iterations):\n",
    "    loss = (- y_total * np.log(sigmoid(np.dot(x_total_concat, weight))) - (1 - y_total) * (np.log(1 - sigmoid(np.dot(x_total_concat, weight))))).mean()\n",
    "    if i % 20 == 0:\n",
    "        print('current num_step:', i)\n",
    "        print('loss', loss)\n",
    "    loss_list.append(loss)\n",
    "    \n",
    "    w_gradient = (x_total_concat * np.tile((sigmoid(np.dot(x_total_concat, weight)) - y_total).reshape([-1, 1]), 3)).mean(axis=0)\n",
    "    weight = weight - learning_rate * w_gradient \n",
    "\n",
    "plt.figure(figsize=(13, 4))\n",
    "plt.subplot(121)\n",
    "plt.plot(np.arange(n_iterations), loss_list)\n",
    "plt.subplot(122)\n",
    "plot_x = np.linspace(-1.0, 1.0, 100)\n",
    "plot_y = - (weight[0] * plot_x + weight[2]) / weight[1]\n",
    "plt.scatter(x_total[pos_index, 0], x_total[pos_index, 1], marker='o', c='r')\n",
    "plt.scatter(x_total[neg_index, 0], x_total[neg_index, 1], marker='x', c='b')\n",
    "plt.plot(plot_x, plot_y, c='g')\n"
   ]
  },
  {
   "cell_type": "markdown",
   "metadata": {},
   "source": [
    "### ROC, AUC"
   ]
  },
  {
   "cell_type": "code",
   "execution_count": 8,
   "metadata": {},
   "outputs": [
    {
     "name": "stdout",
     "output_type": "stream",
     "text": [
      "0.9720833333333334\n"
     ]
    },
    {
     "data": {
      "image/png": "[encoded data removed]",
      "text/plain": [
       "<Figure size 432x288 with 1 Axes>"
      ]
     },
     "metadata": {
      "needs_background": "light"
     },
     "output_type": "display_data"
    }
   ],
   "source": [
    "from sklearn.metrics import roc_curve, auc\n",
    "\n",
    "y_score = sigmoid(np.dot(x_total_concat, weight)) \n",
    "fpr, tpr, threshold = roc_curve(y_total, y_score)\n",
    "auc = auc(fpr, tpr)\n",
    "print(auc)\n",
    "plt.plot(fpr, tpr)\n",
    "plt.show()"
   ]
  },
  {
   "cell_type": "code",
   "execution_count": 9,
   "metadata": {},
   "outputs": [
    {
     "name": "stdout",
     "output_type": "stream",
     "text": [
      "0.9720833333333333\n"
     ]
    },
    {
     "data": {
      "image/png": "[encoded data removed]",
      "text/plain": [
       "<Figure size 432x288 with 1 Axes>"
      ]
     },
     "metadata": {
      "needs_background": "light"
     },
     "output_type": "display_data"
    }
   ],
   "source": [
    "y_score_sorted = -np.sort(-y_score)\n",
    "index = np.argsort(-y_score)\n",
    "y_sorted = y_total[index]\n",
    "\n",
    "tpr = [0]\n",
    "fpr = [0]\n",
    "TP = 0\n",
    "FP = 0\n",
    "n_neg = np.where(y_total == 0)[0].shape[0]\n",
    "n_pos = np.where(y_total == 1)[0].shape[0]\n",
    "for i in range(index.shape[0]):\n",
    "    if y_sorted[i] == 1:\n",
    "        TP += 1\n",
    "    else:\n",
    "        FP += 1\n",
    "    tpr.append(TP / n_pos)\n",
    "    fpr.append(FP / n_neg)\n",
    "tpr.append(1)\n",
    "fpr.append(1)\n",
    "fpr = np.array(fpr)\n",
    "tpr = np.array(tpr)\n",
    "plt.plot(fpr, tpr)\n",
    "\n",
    "fpr_delta = fpr[1:] - fpr[:-1]\n",
    "auc = (fpr_delta * tpr[1:]).sum()\n",
    "print(auc)\n"
   ]
  }
 ],
 "metadata": {
  "kernelspec": {
   "display_name": "Python 3",
   "language": "python",
   "name": "python3"
  },
  "language_info": {
   "codemirror_mode": {
    "name": "ipython",
    "version": 3
   },
   "file_extension": ".py",
   "mimetype": "text/x-python",
   "name": "python",
   "nbconvert_exporter": "python",
   "pygments_lexer": "ipython3",
   "version": "3.5.2"
  }
 },
 "nbformat": 4,
 "nbformat_minor": 2
}
