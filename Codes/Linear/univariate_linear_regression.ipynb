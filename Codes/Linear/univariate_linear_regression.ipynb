{
 "cells": [
  {
   "cell_type": "markdown",
   "metadata": {},
   "source": [
    "## 1. Data Generation and Visualization"
   ]
  },
  {
   "cell_type": "code",
   "execution_count": 57,
   "metadata": {},
   "outputs": [
    {
     "data": {
      "image/png": "[encoded data removed]",
      "text/plain": [
       "<Figure size 432x288 with 1 Axes>"
      ]
     },
     "metadata": {
      "needs_background": "light"
     },
     "output_type": "display_data"
    }
   ],
   "source": [
    "import numpy as np\n",
    "import matplotlib.pyplot as plt\n",
    "\n",
    "n_samples = 100\n",
    "train_x = np.linspace(0, 20, n_samples)\n",
    "np.random.seed(0)\n",
    "noise = np.random.normal(0, 2, n_samples)\n",
    "train_y = train_x * 1.2 - 2 + noise\n",
    "plt.scatter(train_x, train_y)\n",
    "plt.show()"
   ]
  },
  {
   "cell_type": "markdown",
   "metadata": {},
   "source": [
    "### 2. Normal Equation\n",
    "$\\beta = (X^T X)^{-1}X^Ty$"
   ]
  },
  {
   "cell_type": "code",
   "execution_count": 58,
   "metadata": {},
   "outputs": [
    {
     "name": "stdout",
     "output_type": "stream",
     "text": [
      "[[ 1.17026731]\n",
      " [-1.5830571 ]]\n"
     ]
    }
   ],
   "source": [
    "X = np.transpose(np.vstack([train_x, np.ones(n_samples)]))\n",
    "NE_solution = np.dot(np.dot(np.linalg.inv(np.dot(np.transpose(X), X)), np.transpose(X)), train_y.reshape([-1, 1]))\n",
    "print(NE_solution)"
   ]
  },
  {
   "cell_type": "markdown",
   "metadata": {},
   "source": [
    "### 3. Sklearn"
   ]
  },
  {
   "cell_type": "code",
   "execution_count": 59,
   "metadata": {},
   "outputs": [
    {
     "name": "stdout",
     "output_type": "stream",
     "text": [
      "[1.17026731]\n",
      "-1.5830571043155839\n"
     ]
    }
   ],
   "source": [
    "from sklearn import linear_model\n",
    "linreg = linear_model.LinearRegression()\n",
    "linreg.fit(train_x.reshape([-1, 1]), train_y)\n",
    "print(linreg.coef_)\n",
    "print(linreg.intercept_)\n",
    "y_pred = linreg.predict(train_x.reshape([-1, 1]))"
   ]
  },
  {
   "cell_type": "markdown",
   "metadata": {},
   "source": [
    "### 4. Gradient Descent\n",
    "$\n",
    "\\begin{aligned}\n",
    "\\frac{\\partial}{\\partial \\theta_j} J(\\theta) &= \\frac{\\partial}{\\partial \\theta_j} \\frac{1}{2} (h_\\theta(x) - y)^2\\\\\n",
    " &= 2 \\cdot \\frac{1}{2} (h_\\theta(x) - y) \\cdot \\frac{\\partial}{\\partial \\theta_j} (h_\\theta(x) - y) \\\\\n",
    " &= (h_\\theta(x) - y) \\cdot \\frac{\\partial}{\\partial \\theta_j} (\\sum_{i=0}^n \\theta_i x_i - y) \\\\\n",
    " &= (h_\\theta(x) - y) x_j\n",
    "\\end{aligned}\n",
    "$"
   ]
  },
  {
   "cell_type": "code",
   "execution_count": 60,
   "metadata": {},
   "outputs": [
    {
     "name": "stdout",
     "output_type": "stream",
     "text": [
      "1.1702673133318542\n",
      "-1.5830571015522024\n"
     ]
    }
   ],
   "source": [
    "n_iterations = 8000\n",
    "learning_rate = 0.01\n",
    "\n",
    "# y = m * x + b\n",
    "m = 0\n",
    "b = 0\n",
    "\n",
    "for i in range(n_iterations):\n",
    "    y_pred = m * train_x + b\n",
    "    mse_loss = np.square(train_y - y_pred).mean() / 2\n",
    "    m_gradient = (train_x * (y_pred - train_y)).mean()\n",
    "    b_gradient = (y_pred - train_y).mean()\n",
    "    m = m - learning_rate * m_gradient\n",
    "    b = b - learning_rate * b_gradient\n",
    "print(m)\n",
    "print(b)"
   ]
  },
  {
   "cell_type": "markdown",
   "metadata": {},
   "source": [
    "### 5. Visulization"
   ]
  },
  {
   "cell_type": "code",
   "execution_count": 61,
   "metadata": {},
   "outputs": [
    {
     "data": {
      "image/png": "[encoded data removed]",
      "text/plain": [
       "<Figure size 432x288 with 1 Axes>"
      ]
     },
     "metadata": {
      "needs_background": "light"
     },
     "output_type": "display_data"
    }
   ],
   "source": [
    "y_pred = m * train_x + b\n",
    "plt.scatter(train_x, train_y, label='scatter plot')\n",
    "plt.plot(train_x, y_pred, c='r', label='regression line')\n",
    "plt.legend()\n",
    "plt.show()"
   ]
  },
  {
   "cell_type": "code",
   "execution_count": 62,
   "metadata": {},
   "outputs": [
    {
     "name": "stdout",
     "output_type": "stream",
     "text": [
      "1.046869651225781\n",
      "0.0573187875826816\n"
     ]
    }
   ],
   "source": [
    "n_iterations = 50\n",
    "learning_rate = 0.001\n",
    "\n",
    "# y = m * x + b\n",
    "m = 0\n",
    "b = 0\n",
    "\n",
    "y_pred_list = []\n",
    "mse_loss_list = []\n",
    "for i in range(n_iterations):\n",
    "    y_pred = m * train_x + b\n",
    "    y_pred_list.append(y_pred)\n",
    "    mse_loss = np.square(train_y - y_pred).mean() / 2\n",
    "    mse_loss_list.append(mse_loss)\n",
    "    m_gradient = (train_x * (y_pred - train_y)).mean()\n",
    "    b_gradient = (y_pred - train_y).mean()\n",
    "    m = m - learning_rate * m_gradient\n",
    "    b = b - learning_rate * b_gradient\n",
    "mse_loss_array = np.array(mse_loss_list)\n",
    "print(m)\n",
    "print(b)"
   ]
  },
  {
   "cell_type": "code",
   "execution_count": 63,
   "metadata": {},
   "outputs": [],
   "source": [
    "%%capture\n",
    "%matplotlib inline\n",
    "import matplotlib.animation\n",
    "plt.rcParams[\"animation.html\"] = \"jshtml\"\n",
    "\n",
    "iteration_array = np.arange(n_iterations)\n",
    "\n",
    "fig, (ax1, ax2) = plt.subplots(1, 2, figsize=(13, 4))\n",
    "ax1.axis([0, n_iterations, 0, 80])\n",
    "ax1.set_xlabel('Iteration')\n",
    "ax1.set_ylabel('mse_loss')\n",
    "ax2.scatter(train_x, train_y)\n",
    "l2, = ax2.plot([], [], color='r')\n",
    "l1, = ax1.plot([], [])\n",
    "\n",
    "def animate(i):\n",
    "    ax2.set_xlabel('iteration %d' % i)\n",
    "    l2.set_data(train_x, y_pred_list[i])\n",
    "    l1.set_data(iteration_array[:i], mse_loss_array[:i])\n",
    "\n",
    "ani = matplotlib.animation.FuncAnimation(fig, animate, frames=len(y_pred_list), interval=50)"
   ]
  },
  {
   "cell_type": "code",
   "execution_count": null,
   "metadata": {},
   "outputs": [],
   "source": []
  }
 ],
 "metadata": {
  "kernelspec": {
   "display_name": "Python 3",
   "language": "python",
   "name": "python3"
  },
  "language_info": {
   "codemirror_mode": {
    "name": "ipython",
    "version": 3
   },
   "file_extension": ".py",
   "mimetype": "text/x-python",
   "name": "python",
   "nbconvert_exporter": "python",
   "pygments_lexer": "ipython3",
   "version": "3.5.2"
  }
 },
 "nbformat": 4,
 "nbformat_minor": 2
}
