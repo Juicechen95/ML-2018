{
 "cells": [
  {
   "cell_type": "code",
   "execution_count": 1,
   "metadata": {},
   "outputs": [],
   "source": [
    "import numpy as np\n",
    "import matplotlib.pyplot as plt\n",
    "from scipy.sparse import csr_matrix"
   ]
  },
  {
   "cell_type": "code",
   "execution_count": null,
   "metadata": {},
   "outputs": [],
   "source": [
    "\"\"\"\n",
    "titanic: machine learning from disaster\n",
    "https://www.kaggle.com/c/titanic/data\n",
    "train_file with labels: ../../data/titanic/train.csv\n",
    "test_file without labels: ../../data/titanic/test.csv\n",
    "\n",
    "0: 'Pclass', (cat)\n",
    "1: 'Name', (text)\n",
    "2: 'Sex', (cat)\n",
    "3: 'Age', (num)\n",
    "4: 'SibSp', (cat)\n",
    "5: 'Parch', (cat)\n",
    "6: 'Ticket', (text)\n",
    "7: 'Fare', (num)\n",
    "8: 'Cabin', (set)\n",
    "9: 'Embarked' (cat)\n",
    "\n",
    "\"\"\"\n",
    "\n",
    "CAT_FEAT = [0, 2, 4, 5, 9]\n",
    "NUM_FEAT = [3, 7]"
   ]
  },
  {
   "cell_type": "code",
   "execution_count": 5,
   "metadata": {},
   "outputs": [
    {
     "name": "stdout",
     "output_type": "stream",
     "text": [
      "field_names: ['PassengerId', 'Survived', 'Pclass', 'Name', 'Sex', 'Age', 'SibSp', 'Parch', 'Ticket', 'Fare', 'Cabin', 'Embarked']\n",
      "field_names: ['PassengerId', 'Pclass', 'Name', 'Sex', 'Age', 'SibSp', 'Parch', 'Ticket', 'Fare', 'Cabin', 'Embarked']\n",
      "train_feat:\n",
      " ['3' '\"Braund, Mr. Owen Harris\"' 'male' '22' '1' '0' 'A/5 21171' '7.25' ''\n",
      " 'S']\n",
      "test_feat:\n",
      " ['3' '\"Kelly, Mr. James\"' 'male' '34.5' '0' '0' '330911' '7.8292' '' 'Q']\n",
      "train_feat:\n",
      " ['3' 'None' 'male' '22' '1' '0' 'None' '7.25' 'None' 'S']\n",
      "test_feat:\n",
      " ['3' 'None' 'male' '34.5' '0' '0' 'None' '7.8292' 'None' 'Q']\n"
     ]
    }
   ],
   "source": [
    "# parse a string into fields, skip quotations\n",
    "def parse_feat(line):\n",
    "    quota = False\n",
    "    j = 0\n",
    "    feats = []\n",
    "    for i in range(len(line)):\n",
    "        if line[i] == '\\\"':\n",
    "            quota = not quota\n",
    "        if line[i] == ',' and not quota:\n",
    "            feat = line[j:i]\n",
    "            feats.append(feat)\n",
    "            j = i+1\n",
    "    return feats + [line[j:]]\n",
    "\n",
    "\n",
    "# load a csv file, use parse_feat() to convert format\n",
    "def load_file(file_name):\n",
    "    data = []\n",
    "    with open(file_name, 'r') as fin:\n",
    "        print('field_names:', fin.readline().strip().split(','))\n",
    "        for line in fin:\n",
    "            line = line.strip()\n",
    "            data.append(parse_feat(line))\n",
    "    return np.array(data)\n",
    "\n",
    "train_data = load_file('../../data/titanic/train.csv')\n",
    "test_data = load_file('../../data/titanic/test.csv')\n",
    "\n",
    "train_id, train_label, train_feat = train_data[:, 0], train_data[:, 1], train_data[:, 2:]\n",
    "test_id, test_feat = test_data[:, 0], test_data[:, 1:]\n",
    "\n",
    "print('train_feat:\\n', train_feat[0])\n",
    "print('test_feat:\\n', test_feat[0])\n",
    "\n",
    "train_feat[:, [1, 6, 8]] = None\n",
    "test_feat[:, [1, 6, 8]] = None\n",
    "\n",
    "print('train_feat:\\n', train_feat[0])\n",
    "print('test_feat:\\n', test_feat[0])"
   ]
  },
  {
   "cell_type": "code",
   "execution_count": 6,
   "metadata": {},
   "outputs": [
    {
     "name": "stdout",
     "output_type": "stream",
     "text": [
      "[ 0.17   8.153 16.136 24.119 32.102 40.085 48.068 56.051 64.034 72.017]\n"
     ]
    },
    {
     "data": {
      "image/png": "[encoded data removed]",
      "text/plain": [
       "<Figure size 432x288 with 1 Axes>"
      ]
     },
     "metadata": {
      "needs_background": "light"
     },
     "output_type": "display_data"
    },
    {
     "name": "stdout",
     "output_type": "stream",
     "text": [
      "[  0.       51.23292 102.46584 153.69876 204.93168 256.1646  307.39752\n",
      " 358.63044 409.86336 461.09628]\n"
     ]
    },
    {
     "data": {
      "image/png": "[encoded data removed]",
      "text/plain": [
       "<Figure size 432x288 with 1 Axes>"
      ]
     },
     "metadata": {
      "needs_background": "light"
     },
     "output_type": "display_data"
    }
   ],
   "source": [
    "# return a separator to categorize a numerical field\n",
    "def num2cat(num_feat, n_class=10):\n",
    "    def to_float(x):\n",
    "        if len(x):\n",
    "            return float(x)\n",
    "        else:\n",
    "            return -1\n",
    "\n",
    "    num_feat = np.array([to_float(x) for x in num_feat])\n",
    "    min_val, max_val = num_feat[num_feat > -1].min(), num_feat.max()\n",
    "    sep = np.linspace(min_val, max_val, n_class, endpoint=False)\n",
    "    print(sep)\n",
    "    plt.hist(num_feat[num_feat > -1], bins=n_class)\n",
    "    plt.show()\n",
    "\n",
    "    def indicator(x):\n",
    "        x = to_float(x)\n",
    "        if x == -1:\n",
    "            return 0\n",
    "        for i in range(len(sep)):\n",
    "            if x < sep[i]:\n",
    "                return i    \n",
    "        return n_class\n",
    "\n",
    "    return indicator\n",
    "\n",
    "\n",
    "for nf in NUM_FEAT:\n",
    "    ind = num2cat(list(train_feat[:, nf]) + list(test_feat[:, nf]))\n",
    "    for _ in range(len(train_feat[nf])):\n",
    "        train_feat[_, nf] = str(ind(train_feat[_, nf]))\n",
    "    for _ in range(len(test_feat[nf])):\n",
    "        test_feat[_, nf] = str(ind(test_feat[_, nf]))"
   ]
  },
  {
   "cell_type": "code",
   "execution_count": 7,
   "metadata": {
    "scrolled": true
   },
   "outputs": [
    {
     "name": "stdout",
     "output_type": "stream",
     "text": [
      "train_feat:\n",
      " [['3' 'male' '3' ... '0' '1' 'S']\n",
      " ['1' 'female' '5' ... '0' '2' 'C']\n",
      " ['3' 'female' '4' ... '0' '1' 'S']\n",
      " ...\n",
      " ['3' 'female' '' ... '2' '23.45' 'S']\n",
      " ['1' 'male' '26' ... '0' '30' 'C']\n",
      " ['3' 'male' '32' ... '0' '7.75' 'Q']]\n",
      "test_feat:\n",
      " [['3' 'male' '5' ... '0' '1' 'Q']\n",
      " ['3' 'female' '6' ... '0' '1' 'S']\n",
      " ['2' 'male' '8' ... '0' '1' 'Q']\n",
      " ...\n",
      " ['3' 'male' '38.5' ... '0' '7.25' 'S']\n",
      " ['3' 'male' '' ... '0' '8.05' 'S']\n",
      " ['3' 'male' '' ... '1' '22.3583' 'C']]\n"
     ]
    }
   ],
   "source": [
    "train_feat = np.delete(train_feat, [1, 6, 8], axis=1)\n",
    "test_feat = np.delete(test_feat, [1, 6, 8], axis=1)\n",
    "\n",
    "print('train_feat:\\n', train_feat)\n",
    "print('test_feat:\\n', test_feat)"
   ]
  },
  {
   "cell_type": "code",
   "execution_count": 8,
   "metadata": {},
   "outputs": [
    {
     "name": "stdout",
     "output_type": "stream",
     "text": [
      "train_feat:\n",
      " [[  0   3   5 ... 112 120 402]\n",
      " [  1   4   6 ... 112 121 403]\n",
      " [  0   4   7 ... 112 120 402]\n",
      " ...\n",
      " [  0   4  17 ... 114 351 402]\n",
      " [  1   3  40 ... 112 329 403]\n",
      " [  0   3  41 ... 112 142 404]]\n",
      "test_feat:\n",
      " [[  0   3   6 ... 112 120 404]\n",
      " [  0   4  89 ... 112 120 402]\n",
      " [  2   3  23 ... 112 120 404]\n",
      " ...\n",
      " [  0   3 104 ... 112 181 402]\n",
      " [  0   3  17 ... 112 124 402]\n",
      " [  0   3  17 ... 113 194 403]]\n"
     ]
    }
   ],
   "source": [
    "class Dataset:\n",
    "    # build feature map for one-hot encoding\n",
    "    @staticmethod\n",
    "    def build_feat_map(cat_feats):\n",
    "        feat_map = {}\n",
    "        for i in range(cat_feats.shape[1]):\n",
    "            for x in cat_feats[:, i]:\n",
    "                feat_name = str(i) + ':' + x\n",
    "                if feat_name not in feat_map:\n",
    "                    feat_map[feat_name] = len(feat_map)\n",
    "\n",
    "        return feat_map\n",
    "    \n",
    "    # one-hot encoding\n",
    "    def feat2id(self, cat_feats):\n",
    "        feat_ids = []\n",
    "        for i in range(cat_feats.shape[1]):\n",
    "            feat_ids.append([])\n",
    "            for x in cat_feats[:, i]:\n",
    "                feat_name = str(i) + ':' + x\n",
    "                feat_ids[-1].append(self.feat_map[feat_name])\n",
    "        return np.int32(feat_ids).transpose()\n",
    "    \n",
    "    # split validation set\n",
    "    def split_train_valid(self):\n",
    "        np.random.seed(123)\n",
    "        rnd = np.random.random(len(self.train_label))\n",
    "        self.train_ind = np.where(rnd < 0.8)[0]\n",
    "        self.valid_ind = np.where(rnd >= 0.8)[0]\n",
    "\n",
    "        def to_csr(data, dim=len(self.feat_map)):\n",
    "            row = np.zeros_like(data) + np.expand_dims(np.arange(len(data)), 1)\n",
    "            val = np.ones_like(data)\n",
    "            return csr_matrix((val.flatten(), (row.flatten(), data.flatten())), shape=(len(data), dim))    \n",
    "            \n",
    "        self.train_data = (self.train_label[self.train_ind], to_csr(self.train_feat[self.train_ind]))\n",
    "        self.valid_data = (self.train_label[self.valid_ind], to_csr(self.train_feat[self.valid_ind]))\n",
    "        self.test_data = (np.zeros(len(self.test_feat), dtype=np.int32), to_csr(self.test_feat))\n",
    "    \n",
    "    def __init__(self):\n",
    "        self.feat_map = self.build_feat_map(np.vstack([train_feat, test_feat]))\n",
    "\n",
    "        self.train_id, self.test_id = train_id, test_id\n",
    "        self.train_label = np.int32(train_label)\n",
    "        self.train_feat, self.test_feat = self.feat2id(train_feat), self.feat2id(test_feat)\n",
    "\n",
    "        print('train_feat:\\n', self.train_feat)\n",
    "        print('test_feat:\\n', self.test_feat)\n",
    "\n",
    "        self.split_train_valid()\n",
    "        \n",
    "Data = Dataset()"
   ]
  },
  {
   "cell_type": "code",
   "execution_count": 9,
   "metadata": {},
   "outputs": [
    {
     "name": "stdout",
     "output_type": "stream",
     "text": [
      "train_label:\n",
      " [0 1 1 1 0 0 0 1 1 1 1 0 0 0 1 0 1 0 1 0 1 1 0 1 0 0 1 0 0 1 1 0 0 0 1 1 0\n",
      " 0 0 1 0 0 0 0 0 1 1 0 1 1 0 0 0 1 0 0 1 1 0 1 0 0 0 0 1 0 0 0 1 1 0 1 1 0\n",
      " 0 0 1 0 0 0 0 0 0 0 1 1 0 0 0 0 0 0 0 1 1 0 0 0 0 0 0 0 0 0 0 1 0 1 0 0 0\n",
      " 0 0 1 0 0 0 0 1 0 0 0 1 0 0 0 1 0 0 0 0 1 0 0 0 1 0 0 0 1 0 0 0 0 0 0 0 0\n",
      " 0 0 0 0 1 1 1 0 1 0 1 1 1 1 0 0 1 0 0 0 0 1 0 0 1 1 1 0 1 0 0 0 1 1 0 0 1\n",
      " 0 0 1 0 0 0 1 0 0 0 0 0 0 0 1 0 0 0 1 1 0 0 0 0 0 0 1 1 1 0 1 0 0 0 0 1 1\n",
      " 1 0 1 1 0 1 1 0 0 0 1 0 0 1 0 0 1 1 0 0 1 1 1 1 0 1 0 1 1 0 1 1 1 0 0 0 1\n",
      " 1 1 0 0 1 0 1 0 1 1 0 1 0 0 1 1 0 0 0 0 1 1 1 0 0 0 0 0 1 0 1 1 0 0 0 0 0\n",
      " 0 1 1 1 1 0 0 0 0 1 0 0 0 1 0 1 0 0 0 0 1 1 1 1 1 0 0 0 0 1 0 0 0 0 1 0 0\n",
      " 0 0 0 1 0 1 1 0 0 0 0 1 0 1 1 1 1 0 0 1 1 0 0 1 0 1 1 1 1 1 0 0 1 1 0 1 1\n",
      " 1 0 0 0 0 0 0 0 1 0 0 1 1 0 0 0 0 1 0 0 0 1 1 0 1 0 1 0 0 0 0 0 0 0 0 0 1\n",
      " 1 1 1 0 0 1 1 0 1 0 1 0 0 1 0 0 0 1 0 1 0 1 0 1 0 1 1 0 0 1 0 0 1 1 0 1 0\n",
      " 0 1 1 1 0 1 1 0 0 0 0 0 0 0 0 1 1 1 1 0 1 1 0 0 0 1 0 1 0 0 0 1 0 0 0 0 1\n",
      " 0 0 1 1 0 1 0 0 1 1 1 0 0 1 0 1 0 0 1 1 0 0 1 0 0 1 0 1 0 1 0 0 0 0 1 1 1\n",
      " 0 1 0 1 0 0 0 0 0 1 0 0 1 0 0 0 1 1 0 1 0 0 1 0 1 1 0 0 0 0 0 1 1 1 1 0 0\n",
      " 1 0 1 0 0 0 1 1 1 1 0 1 0 0 1 1 0 0 1 0 1 0 1 0 0 1 0 0 0 0 0 1 0 0 1 0 1\n",
      " 0 1 0 0 1 1 0 0 1 1 0 0 0 0 0 1 0 1 0 0 0 0 0 0 0 1 1 0 0 0 1 0 0 0 0 0 0\n",
      " 0 1 1 0 0 0 1 1 0 0 0 1 0 0 0 0 0 0 0 0 1 1 0 0 0 1 1 1 0 0 0 1 0 0 1 0 0\n",
      " 1 0 0 0 0 0 1 0 0 1 1 1 1 1 0 1 0 1 1 0 1 0 1 0 0 1 1 0 0 0 1 1 0 0 0 0 0\n",
      " 1 0 1 0]\n",
      "train_feat:\n",
      "   (0, 0)\t1\n",
      "  (0, 3)\t1\n",
      "  (0, 5)\t1\n",
      "  (0, 105)\t1\n",
      "  (0, 112)\t1\n",
      "  (0, 120)\t1\n",
      "  (0, 402)\t1\n",
      "  (1, 1)\t1\n",
      "  (1, 4)\t1\n",
      "  (1, 6)\t1\n",
      "  (1, 105)\t1\n",
      "  (1, 112)\t1\n",
      "  (1, 121)\t1\n",
      "  (1, 403)\t1\n",
      "  (2, 0)\t1\n",
      "  (2, 4)\t1\n",
      "  (2, 7)\t1\n",
      "  (2, 106)\t1\n",
      "  (2, 112)\t1\n",
      "  (2, 120)\t1\n",
      "  (2, 402)\t1\n",
      "  (3, 1)\t1\n",
      "  (3, 4)\t1\n",
      "  (3, 6)\t1\n",
      "  (3, 105)\t1\n",
      "  :\t:\n",
      "  (703, 106)\t1\n",
      "  (703, 112)\t1\n",
      "  (703, 329)\t1\n",
      "  (703, 402)\t1\n",
      "  (704, 0)\t1\n",
      "  (704, 4)\t1\n",
      "  (704, 17)\t1\n",
      "  (704, 105)\t1\n",
      "  (704, 114)\t1\n",
      "  (704, 351)\t1\n",
      "  (704, 402)\t1\n",
      "  (705, 1)\t1\n",
      "  (705, 3)\t1\n",
      "  (705, 40)\t1\n",
      "  (705, 106)\t1\n",
      "  (705, 112)\t1\n",
      "  (705, 329)\t1\n",
      "  (705, 403)\t1\n",
      "  (706, 0)\t1\n",
      "  (706, 3)\t1\n",
      "  (706, 41)\t1\n",
      "  (706, 106)\t1\n",
      "  (706, 112)\t1\n",
      "  (706, 142)\t1\n",
      "  (706, 404)\t1\n"
     ]
    }
   ],
   "source": [
    "# csr_matrix: https://docs.scipy.org/doc/scipy/reference/generated/scipy.sparse.csr_matrix.html\n",
    "\n",
    "print('train_label:\\n', Data.train_data[0])\n",
    "print('train_feat:\\n', Data.train_data[1])"
   ]
  },
  {
   "cell_type": "code",
   "execution_count": 10,
   "metadata": {},
   "outputs": [
    {
     "name": "stdout",
     "output_type": "stream",
     "text": [
      "0\n",
      "0.0\n",
      "0.0\n"
     ]
    }
   ],
   "source": [
    "NID = {}\n",
    "\n",
    "\n",
    "class Node:\n",
    "    def __init__(self, feat_id=-1):\n",
    "        self.feat_id = feat_id\n",
    "        self.nid = len(NID)\n",
    "        # if self.nid > 1000:\n",
    "        #     exit(0)\n",
    "        NID[self.nid] = self\n",
    "        self.t_child = None\n",
    "        self.f_child = None\n",
    "        self._class = -1\n",
    "        \n",
    "\n",
    "class DecisionTree:\n",
    "    def __init__(self, n_feat, max_depth=6, verbose=True):\n",
    "        self.n_feat = n_feat\n",
    "        self.max_depth = max_depth\n",
    "        self.verbose = verbose\n",
    "        self.root_node = Node()\n",
    "\n",
    "    # TODO: implement gini index\n",
    "    @staticmethod\n",
    "    def entropy(labels):\n",
    "        p = np.sum(labels) / len(labels)\n",
    "        if p == 0 or p == 1:\n",
    "            return 0\n",
    "        return - p * np.log(p) - (1-p) * np.log(1-p)\n",
    "\n",
    "    # TODO: min_samples_split \n",
    "    def fit(self, labels, data, cur_node=None, cur_depth=1):\n",
    "        if cur_node is None:\n",
    "            cur_node = self.root_node\n",
    "\n",
    "        if self.verbose:\n",
    "            print(cur_node.nid)\n",
    "        \n",
    "        \"\"\"\n",
    "        if current node is pure:\n",
    "            set cur_node.label\n",
    "            set null cur_node.t_child, cur_node.f_child\n",
    "        else if current node reaches max_depth:\n",
    "            set cur_node.label via majority vote\n",
    "            set null cur_node.t_child, cur_node.f_child\n",
    "        else:\n",
    "            best_split = -1\n",
    "            best_info_gain = -1\n",
    "            for feature in feature_set:\n",
    "                t_subset = {data | feature is True}\n",
    "                f_subset = {data | feature is False}\n",
    "                compute info_gain\n",
    "                update best_info_gain, best_split\n",
    "            \n",
    "            # an exception\n",
    "            \n",
    "            cur_node.feat_id = best_split\n",
    "            cur_node.t_child = Node()\n",
    "            cur_node.f_child = Node()\n",
    "            \n",
    "            fit(t_subset, cur_node.t_child, cur_depth + 1)\n",
    "            fit(t_subset, cur_node.f_child, cur_depth + 1)\n",
    "        \"\"\"\n",
    "\n",
    "    def predict(self, data):\n",
    "        assert data.ndim == 1\n",
    "        cur_node = self.root_node\n",
    "        feat_set = set(data)\n",
    "\n",
    "        while True:\n",
    "            if cur_node.t_child is None or cur_node.f_child is None:\n",
    "                return cur_node._class\n",
    "            if cur_node.feat_id in feat_set:\n",
    "                cur_node = cur_node.t_child\n",
    "            else:\n",
    "                cur_node = cur_node.f_child\n",
    "\n",
    "    def batch_predict(self, data):\n",
    "        preds = []\n",
    "        for i in range(data.shape[0]):\n",
    "            preds.append(self.predict(data[i].tocoo().col))\n",
    "        return np.array(preds)\n",
    "\n",
    "    def acc(self, labels, data):\n",
    "        preds = self.batch_predict(data)\n",
    "        acc = np.int32(labels == preds).sum() / len(labels)\n",
    "        return acc\n",
    "\n",
    "DT = DecisionTree(len(Data.feat_map), max_depth=4, verbose=True)\n",
    "DT.fit(*Data.train_data)\n",
    "\n",
    "print(DT.acc(*Data.train_data))\n",
    "print(DT.acc(*Data.valid_data))"
   ]
  },
  {
   "cell_type": "code",
   "execution_count": 11,
   "metadata": {},
   "outputs": [],
   "source": [
    "from sklearn import tree\n",
    "\n",
    "train_label, train_feat = Data.train_data[0], Data.train_data[1].toarray()\n",
    "valid_label, valid_feat = Data.valid_data[0], Data.valid_data[1].toarray()"
   ]
  },
  {
   "cell_type": "code",
   "execution_count": 12,
   "metadata": {},
   "outputs": [
    {
     "name": "stdout",
     "output_type": "stream",
     "text": [
      "train acc: 0.8444130127298444\n",
      "valid acc: 0.7989130434782609\n"
     ]
    },
    {
     "data": {
      "text/plain": [
       "True"
      ]
     },
     "execution_count": 12,
     "metadata": {},
     "output_type": "execute_result"
    }
   ],
   "source": [
    "# https://scikit-learn.org/stable/modules/generated/sklearn.tree.DecisionTreeClassifier.html\n",
    "clf = tree.DecisionTreeClassifier(criterion='entropy', max_depth=4)\n",
    "clf.fit(train_feat, train_label)\n",
    "\n",
    "train_preds = clf.predict(train_feat)\n",
    "valid_preds = clf.predict(valid_feat)\n",
    "print('train acc:', np.sum(train_preds == train_label) / len(train_label))\n",
    "print('valid acc:', np.sum(valid_preds == valid_label) / len(valid_label))\n",
    "\n",
    "from sklearn.externals.six import StringIO\n",
    "import pydotplus\n",
    "\n",
    "dot_data = StringIO()\n",
    "tree.export_graphviz(clf,\n",
    "                    out_file=dot_data,\n",
    "                    feature_names=sorted(sorted(Data.feat_map.keys())),\n",
    "                    class_names=['non-survival', 'survival'],\n",
    "                    filled=True, rounded=True,\n",
    "                    impurity=False)\n",
    "\n",
    "graph = pydotplus.graph_from_dot_data(dot_data.getvalue())\n",
    "graph.write_pdf('viz.pdf')"
   ]
  }
 ],
 "metadata": {
  "kernelspec": {
   "display_name": "Python 3",
   "language": "python",
   "name": "python3"
  },
  "language_info": {
   "codemirror_mode": {
    "name": "ipython",
    "version": 3
   },
   "file_extension": ".py",
   "mimetype": "text/x-python",
   "name": "python",
   "nbconvert_exporter": "python",
   "pygments_lexer": "ipython3",
   "version": "3.5.2"
  }
 },
 "nbformat": 4,
 "nbformat_minor": 2
}
